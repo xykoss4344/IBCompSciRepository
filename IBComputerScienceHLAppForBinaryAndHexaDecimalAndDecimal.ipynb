{
  "nbformat": 4,
  "nbformat_minor": 0,
  "metadata": {
    "colab": {
      "provenance": [],
      "authorship_tag": "ABX9TyMKn9dSsOphjsAXCsSjgiKz",
      "include_colab_link": true
    },
    "kernelspec": {
      "name": "python3",
      "display_name": "Python 3"
    },
    "language_info": {
      "name": "python"
    }
  },
  "cells": [
    {
      "cell_type": "markdown",
      "metadata": {
        "id": "view-in-github",
        "colab_type": "text"
      },
      "source": [
        "<a href=\"https://colab.research.google.com/github/xykoss4344/IBCompSciRepository/blob/main/IBComputerScienceHLAppForBinaryAndHexaDecimalAndDecimal.ipynb\" target=\"_parent\"><img src=\"https://colab.research.google.com/assets/colab-badge.svg\" alt=\"Open In Colab\"/></a>"
      ]
    },
    {
      "cell_type": "markdown",
      "source": [
        "# August 12 2025, ComputerScience, Decimal to Binary, Binary to hexadecimal, and vice versa. Then Applications"
      ],
      "metadata": {
        "id": "4TjhT-V-5r2F"
      }
    },
    {
      "cell_type": "code",
      "execution_count": 12,
      "metadata": {
        "id": "WCpP8qKO8qKE"
      },
      "outputs": [],
      "source": [
        "\n",
        "def decToBinary(n):\n",
        "    binArr = []\n",
        "\n",
        "    while n > 0:\n",
        "        bit = n % 2\n",
        "        binArr.append(str(bit))\n",
        "        n //= 2\n",
        "\n",
        "\n",
        "    binArr.reverse()\n",
        "    return \"\".join(binArr)\n"
      ]
    },
    {
      "cell_type": "markdown",
      "source": [
        "Test"
      ],
      "metadata": {
        "id": "HOyA8lF09w5M"
      }
    },
    {
      "cell_type": "code",
      "source": [
        "n = 20\n",
        "print(decToBinary(n))"
      ],
      "metadata": {
        "colab": {
          "base_uri": "https://localhost:8080/"
        },
        "id": "4QZqVyTPdX2N",
        "outputId": "46f67d11-6f96-4391-d837-13867a3b0706"
      },
      "execution_count": 13,
      "outputs": [
        {
          "output_type": "stream",
          "name": "stdout",
          "text": [
            "10100\n"
          ]
        }
      ]
    },
    {
      "cell_type": "code",
      "source": [
        "def binaryToDecimal(binaryString):\n",
        "  power = 0\n",
        "  decimalValue = 0\n",
        "\n",
        "  for digits in reversed(binaryString):\n",
        "    if digits == '1':\n",
        "      decimalValue += (2 **power)\n",
        "    power +=1\n",
        "  return decimalValue\n",
        "\n",
        "\n"
      ],
      "metadata": {
        "id": "yCzMVGp8ddJm"
      },
      "execution_count": 14,
      "outputs": []
    },
    {
      "cell_type": "markdown",
      "source": [
        "Text"
      ],
      "metadata": {
        "id": "-nYoawOk9yAc"
      }
    },
    {
      "cell_type": "code",
      "source": [
        "binaryString = '0010'\n",
        "\n",
        "print(binaryToDecimal(binaryString))"
      ],
      "metadata": {
        "colab": {
          "base_uri": "https://localhost:8080/"
        },
        "id": "zwQYyb20eSHQ",
        "outputId": "d0b708b3-535b-4f69-cb38-c31ff2c88fa7"
      },
      "execution_count": 15,
      "outputs": [
        {
          "output_type": "stream",
          "name": "stdout",
          "text": [
            "2\n"
          ]
        }
      ]
    },
    {
      "cell_type": "code",
      "source": [
        "def hexaToBinary(hexaString):\n",
        "\n",
        "  hexToBinMap = {\n",
        "      '0': '0000', '1': '0001', '2': '0010', '3': '0011',\n",
        "        '4': '0100', '5': '0101', '6': '0110', '7': '0111',\n",
        "        '8': '1000', '9': '1001', 'A': '1010', 'B': '1011',\n",
        "        'C': '1100', 'D': '1101', 'E': '1110', 'F': '1111'\n",
        "        }\n",
        "  binaryResult = \" \"\n",
        "  for char in hexaString.upper():\n",
        "    if char in hexToBinMap:\n",
        "      binaryResult += hexToBinMap[char]\n",
        "    else:\n",
        "      raise ValueError(f\"Invalid hexadecimal digit: {char}\")\n",
        "  return binaryResult"
      ],
      "metadata": {
        "id": "Cd2fOh8-e9bf"
      },
      "execution_count": 16,
      "outputs": []
    },
    {
      "cell_type": "markdown",
      "source": [
        "Test"
      ],
      "metadata": {
        "id": "G5uvVlMo95BQ"
      }
    },
    {
      "cell_type": "code",
      "source": [
        "hexa = '2F3C'\n",
        "\n",
        "print(hexaToBinary(hexa))\n",
        "\n",
        "binaryOfHexa = hexaToBinary(hexa)\n",
        "\n",
        "\n",
        "decimalOfBinaryOfHex = binaryToDecimal(binaryOfHexa)\n",
        "\n",
        "print(decimalOfBinaryOfHex)"
      ],
      "metadata": {
        "colab": {
          "base_uri": "https://localhost:8080/"
        },
        "id": "JLT6lh317Oke",
        "outputId": "bbad2014-9468-4125-954f-a31f496201b4"
      },
      "execution_count": 17,
      "outputs": [
        {
          "output_type": "stream",
          "name": "stdout",
          "text": [
            " 0010111100111100\n",
            "12092\n"
          ]
        }
      ]
    },
    {
      "cell_type": "code",
      "source": [
        "def binaryToHexa(binaryString):\n",
        "\n",
        "  hexMap = {\n",
        "        \"0000\": \"0\", \"0001\": \"1\", \"0010\": \"2\", \"0011\": \"3\",\n",
        "        \"0100\": \"4\", \"0101\": \"5\", \"0110\": \"6\", \"0111\": \"7\",\n",
        "        \"1000\": \"8\", \"1001\": \"9\", \"1010\": \"A\", \"1011\": \"B\",\n",
        "        \"1100\": \"C\", \"1101\": \"D\", \"1110\": \"E\", \"1111\": \"F\"\n",
        "    }\n",
        "\n",
        "\n",
        "  paddingNeeded = (4 - len(binaryString) % 4) % 4\n",
        "  paddedBinary = \"0\" * paddingNeeded + binaryString\n",
        "\n",
        "  hexResult = \"\"\n",
        "  for i in range(0, len(paddedBinary), 4):\n",
        "      fourBits = paddedBinary[i:i+4]\n",
        "      hexResult += hexMap[fourBits]\n",
        "\n",
        "  return hexResult"
      ],
      "metadata": {
        "id": "hA8MXs0p-esz"
      },
      "execution_count": 18,
      "outputs": []
    },
    {
      "cell_type": "markdown",
      "source": [
        "Test"
      ],
      "metadata": {
        "id": "7vX-DtUBFuh3"
      }
    },
    {
      "cell_type": "code",
      "source": [
        "binary_num = \"111101111011\"\n",
        "hex_num = binaryToHexa(binary_num)\n",
        "print(hex_num)\n"
      ],
      "metadata": {
        "colab": {
          "base_uri": "https://localhost:8080/"
        },
        "id": "mXUJm615BnFd",
        "outputId": "f96cca26-ff1d-4e8b-fcb3-980c641b3eb3"
      },
      "execution_count": 19,
      "outputs": [
        {
          "output_type": "stream",
          "name": "stdout",
          "text": [
            "F7B\n"
          ]
        }
      ]
    },
    {
      "cell_type": "markdown",
      "source": [
        "Helper\n"
      ],
      "metadata": {
        "id": "s-W-tv7uQ7zj"
      }
    },
    {
      "cell_type": "code",
      "source": [
        "def decToHexa(n):\n",
        "    return binaryToHexa(decToBinary(n))\n",
        "\n",
        "def hexaToDecimal(hs):\n",
        "    return binaryToDecimal(hexaToBinary(hs))\n",
        "\n",
        "def is_binary(s):\n",
        "    return len(s) > 0 and all(c in \"01\" for c in s)\n",
        "\n",
        "def is_hex(s):\n",
        "    return len(s) > 0 and all(c.upper() in \"0123456789ABCDEF\" for c in s)"
      ],
      "metadata": {
        "id": "-GgSLKcqQ7dz"
      },
      "execution_count": 20,
      "outputs": []
    },
    {
      "cell_type": "markdown",
      "source": [
        "Application"
      ],
      "metadata": {
        "id": "zkTyceC7G4-f"
      }
    },
    {
      "cell_type": "code",
      "source": [
        "while True:\n",
        "    print(\"\\nChoose 1 for Decimal, 2 for Hexadecimal, 3 for Binary, or 0 to Exit\")\n",
        "    inputValue = input().strip()\n",
        "\n",
        "    if inputValue == '0':\n",
        "        print(\"bye \")\n",
        "        break\n",
        "\n",
        "    elif inputValue == '1':\n",
        "        print('Input decimal here:')\n",
        "        try:\n",
        "            n = int(input().strip())\n",
        "            if n < 0:\n",
        "                print(\"Please enter a non-negative integer.\")\n",
        "            else:\n",
        "                print('Convert to Hexadecimal: 1, Convert to Binary: 2')\n",
        "                inputBool = input().strip()\n",
        "                if inputBool == '1':\n",
        "                    print(f'Hex: {decToHexa(n)}')\n",
        "                elif inputBool == '2':\n",
        "                    print(f'Binary: {decToBinary(n)}')\n",
        "                else:\n",
        "                    print('Not a valid choice.')\n",
        "        except ValueError:\n",
        "            print(\"That wasn't a valid integer.\")\n",
        "\n",
        "    elif inputValue == '2':\n",
        "        print('Input hexadecimal here (e.g., 1A3F):')\n",
        "        hs = input().strip()\n",
        "        if not is_hex(hs):\n",
        "            print('Invalid hexadecimal string.')\n",
        "        else:\n",
        "            print('Convert to Decimal: 1, Convert to Binary: 2')\n",
        "            inputBool = input().strip()\n",
        "            if inputBool == '1':\n",
        "                print(f'Decimal: {hexaToDecimal(hs)}')\n",
        "            elif inputBool == '2':\n",
        "                print(f'Binary: {hexaToBinary(hs)}')\n",
        "            else:\n",
        "                print('Not a valid choice.')\n",
        "\n",
        "    elif inputValue == '3':\n",
        "        print('Input binary here (e.g., 101101):')\n",
        "        bs = input().strip()\n",
        "        if not is_binary(bs):\n",
        "            print('Invalid binary string.')\n",
        "        else:\n",
        "            print('Convert to Decimal: 1, Convert to Hexadecimal: 2')\n",
        "            inputBool = input().strip()\n",
        "            if inputBool == '1':\n",
        "                print(f'Decimal: {binaryToDecimal(bs)}')\n",
        "            elif inputBool == '2':\n",
        "                print(f'Hex: {binaryToHexa(bs)}')\n",
        "            else:\n",
        "                print('Not a valid choice.')\n",
        "\n",
        "    else:\n",
        "        print('Your value is not a choice here')"
      ],
      "metadata": {
        "id": "RKCiLw2JG4kG",
        "colab": {
          "base_uri": "https://localhost:8080/",
          "height": 833
        },
        "collapsed": true,
        "outputId": "90aed680-8a42-48bf-dca1-d278eb2a7729"
      },
      "execution_count": 21,
      "outputs": [
        {
          "output_type": "stream",
          "name": "stdout",
          "text": [
            "\n",
            "Choose 1 for Decimal, 2 for Hexadecimal, 3 for Binary, or 0 to Exit\n",
            "1\n",
            "Input decimal here:\n",
            "17\n",
            "Convert to Hexadecimal: 1, Convert to Binary: 2\n",
            "1\n",
            "Hex: 11\n",
            "\n",
            "Choose 1 for Decimal, 2 for Hexadecimal, 3 for Binary, or 0 to Exit\n",
            "3\n",
            "Input binary here (e.g., 101101):\n",
            "10110011\n",
            "Convert to Decimal: 1, Convert to Hexadecimal: 2\n",
            "2\n",
            "Hex: B3\n",
            "\n",
            "Choose 1 for Decimal, 2 for Hexadecimal, 3 for Binary, or 0 to Exit\n",
            "2\n",
            "Input hexadecimal here (e.g., 1A3F):\n",
            "2F76EC\n",
            "Convert to Decimal: 1, Convert to Binary: 2\n",
            "1\n",
            "Decimal: 3110636\n",
            "\n",
            "Choose 1 for Decimal, 2 for Hexadecimal, 3 for Binary, or 0 to Exit\n"
          ]
        },
        {
          "output_type": "error",
          "ename": "KeyboardInterrupt",
          "evalue": "Interrupted by user",
          "traceback": [
            "\u001b[0;31m---------------------------------------------------------------------------\u001b[0m",
            "\u001b[0;31mKeyboardInterrupt\u001b[0m                         Traceback (most recent call last)",
            "\u001b[0;32m/tmp/ipython-input-4145347875.py\u001b[0m in \u001b[0;36m<cell line: 0>\u001b[0;34m()\u001b[0m\n\u001b[1;32m      1\u001b[0m \u001b[0;32mwhile\u001b[0m \u001b[0;32mTrue\u001b[0m\u001b[0;34m:\u001b[0m\u001b[0;34m\u001b[0m\u001b[0;34m\u001b[0m\u001b[0m\n\u001b[1;32m      2\u001b[0m     \u001b[0mprint\u001b[0m\u001b[0;34m(\u001b[0m\u001b[0;34m\"\\nChoose 1 for Decimal, 2 for Hexadecimal, 3 for Binary, or 0 to Exit\"\u001b[0m\u001b[0;34m)\u001b[0m\u001b[0;34m\u001b[0m\u001b[0;34m\u001b[0m\u001b[0m\n\u001b[0;32m----> 3\u001b[0;31m     \u001b[0minputValue\u001b[0m \u001b[0;34m=\u001b[0m \u001b[0minput\u001b[0m\u001b[0;34m(\u001b[0m\u001b[0;34m)\u001b[0m\u001b[0;34m.\u001b[0m\u001b[0mstrip\u001b[0m\u001b[0;34m(\u001b[0m\u001b[0;34m)\u001b[0m\u001b[0;34m\u001b[0m\u001b[0;34m\u001b[0m\u001b[0m\n\u001b[0m\u001b[1;32m      4\u001b[0m \u001b[0;34m\u001b[0m\u001b[0m\n\u001b[1;32m      5\u001b[0m     \u001b[0;32mif\u001b[0m \u001b[0minputValue\u001b[0m \u001b[0;34m==\u001b[0m \u001b[0;34m'0'\u001b[0m\u001b[0;34m:\u001b[0m\u001b[0;34m\u001b[0m\u001b[0;34m\u001b[0m\u001b[0m\n",
            "\u001b[0;32m/usr/local/lib/python3.11/dist-packages/ipykernel/kernelbase.py\u001b[0m in \u001b[0;36mraw_input\u001b[0;34m(self, prompt)\u001b[0m\n\u001b[1;32m   1175\u001b[0m                 \u001b[0;34m\"raw_input was called, but this frontend does not support input requests.\"\u001b[0m\u001b[0;34m\u001b[0m\u001b[0;34m\u001b[0m\u001b[0m\n\u001b[1;32m   1176\u001b[0m             )\n\u001b[0;32m-> 1177\u001b[0;31m         return self._input_request(\n\u001b[0m\u001b[1;32m   1178\u001b[0m             \u001b[0mstr\u001b[0m\u001b[0;34m(\u001b[0m\u001b[0mprompt\u001b[0m\u001b[0;34m)\u001b[0m\u001b[0;34m,\u001b[0m\u001b[0;34m\u001b[0m\u001b[0;34m\u001b[0m\u001b[0m\n\u001b[1;32m   1179\u001b[0m             \u001b[0mself\u001b[0m\u001b[0;34m.\u001b[0m\u001b[0m_parent_ident\u001b[0m\u001b[0;34m[\u001b[0m\u001b[0;34m\"shell\"\u001b[0m\u001b[0;34m]\u001b[0m\u001b[0;34m,\u001b[0m\u001b[0;34m\u001b[0m\u001b[0;34m\u001b[0m\u001b[0m\n",
            "\u001b[0;32m/usr/local/lib/python3.11/dist-packages/ipykernel/kernelbase.py\u001b[0m in \u001b[0;36m_input_request\u001b[0;34m(self, prompt, ident, parent, password)\u001b[0m\n\u001b[1;32m   1217\u001b[0m             \u001b[0;32mexcept\u001b[0m \u001b[0mKeyboardInterrupt\u001b[0m\u001b[0;34m:\u001b[0m\u001b[0;34m\u001b[0m\u001b[0;34m\u001b[0m\u001b[0m\n\u001b[1;32m   1218\u001b[0m                 \u001b[0;31m# re-raise KeyboardInterrupt, to truncate traceback\u001b[0m\u001b[0;34m\u001b[0m\u001b[0;34m\u001b[0m\u001b[0m\n\u001b[0;32m-> 1219\u001b[0;31m                 \u001b[0;32mraise\u001b[0m \u001b[0mKeyboardInterrupt\u001b[0m\u001b[0;34m(\u001b[0m\u001b[0;34m\"Interrupted by user\"\u001b[0m\u001b[0;34m)\u001b[0m \u001b[0;32mfrom\u001b[0m \u001b[0;32mNone\u001b[0m\u001b[0;34m\u001b[0m\u001b[0;34m\u001b[0m\u001b[0m\n\u001b[0m\u001b[1;32m   1220\u001b[0m             \u001b[0;32mexcept\u001b[0m \u001b[0mException\u001b[0m\u001b[0;34m:\u001b[0m\u001b[0;34m\u001b[0m\u001b[0;34m\u001b[0m\u001b[0m\n\u001b[1;32m   1221\u001b[0m                 \u001b[0mself\u001b[0m\u001b[0;34m.\u001b[0m\u001b[0mlog\u001b[0m\u001b[0;34m.\u001b[0m\u001b[0mwarning\u001b[0m\u001b[0;34m(\u001b[0m\u001b[0;34m\"Invalid Message:\"\u001b[0m\u001b[0;34m,\u001b[0m \u001b[0mexc_info\u001b[0m\u001b[0;34m=\u001b[0m\u001b[0;32mTrue\u001b[0m\u001b[0;34m)\u001b[0m\u001b[0;34m\u001b[0m\u001b[0;34m\u001b[0m\u001b[0m\n",
            "\u001b[0;31mKeyboardInterrupt\u001b[0m: Interrupted by user"
          ]
        }
      ]
    },
    {
      "cell_type": "code",
      "source": [],
      "metadata": {
        "id": "Xq9j1ungRPoS"
      },
      "execution_count": null,
      "outputs": []
    }
  ]
}